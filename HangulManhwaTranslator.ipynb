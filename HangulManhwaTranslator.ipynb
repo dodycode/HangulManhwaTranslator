{
 "cells": [
  {
   "cell_type": "code",
   "execution_count": 578,
   "metadata": {},
   "outputs": [],
   "source": [
    "import cv2"
   ]
  },
  {
   "cell_type": "code",
   "execution_count": 579,
   "metadata": {},
   "outputs": [],
   "source": [
    "import numpy as np\n",
    "\n",
    "import re"
   ]
  },
  {
   "cell_type": "code",
   "execution_count": 580,
   "metadata": {},
   "outputs": [],
   "source": [
    "import pytesseract as tess"
   ]
  },
  {
   "cell_type": "code",
   "execution_count": 581,
   "metadata": {},
   "outputs": [],
   "source": [
    "tess.pytesseract.tesseract_cmd = r'C:\\Program Files\\Tesseract-OCR\\tesseract.exe'"
   ]
  },
  {
   "cell_type": "code",
   "execution_count": 582,
   "metadata": {},
   "outputs": [],
   "source": [
    "from PIL import Image"
   ]
  },
  {
   "cell_type": "code",
   "execution_count": 583,
   "metadata": {},
   "outputs": [],
   "source": [
    "from matplotlib import pyplot as plt"
   ]
  },
  {
   "cell_type": "code",
   "execution_count": 584,
   "metadata": {},
   "outputs": [],
   "source": [
    "from googletrans import Translator"
   ]
  },
  {
   "cell_type": "code",
   "execution_count": 621,
   "metadata": {},
   "outputs": [],
   "source": [
    "translator = Translator(service_urls=[\n",
    "      'translate.google.com',\n",
    "      'translate.google.co.kr',\n",
    "])"
   ]
  },
  {
   "cell_type": "code",
   "execution_count": 622,
   "metadata": {},
   "outputs": [],
   "source": [
    "def get_params():\n",
    "    params = \"\"\n",
    "    params += \"--psm 12\"\n",
    "\n",
    "    configParams = []\n",
    "    def configParam(param, val):\n",
    "      return \"-c \" + param + \"=\" + val\n",
    "\n",
    "    configParams.append((\"chop_enable\", \"T\"))\n",
    "    configParams.append(('use_new_state_cost','F'))\n",
    "    configParams.append(('segment_segcost_rating','F'))\n",
    "    configParams.append(('enable_new_segsearch','0'))\n",
    "    configParams.append(('textord_force_make_prop_words','F'))\n",
    "    configParams.append(('tessedit_char_blacklist', '}><L'))\n",
    "    configParams.append(('textord_debug_tabfind','0'))\n",
    "    params += \" \".join([configParam(p[0], p[1]) for p in configParams])\n",
    "    return params"
   ]
  },
  {
   "cell_type": "code",
   "execution_count": 623,
   "metadata": {},
   "outputs": [],
   "source": [
    "img = cv2.imread('sample.jpg')\n",
    "\n",
    "if (img.shape[0] > 300):\n",
    "    scale_percent = 30 # percent of original size\n",
    "else:\n",
    "    scale_percent = 200 # percent of original size\n",
    "\n",
    "width = int(img.shape[1] * scale_percent / 100)\n",
    "height = int(img.shape[0] * scale_percent / 100)\n",
    "dim = (width, height)\n",
    "img = cv2.resize(img, dim, interpolation = cv2.INTER_AREA)"
   ]
  },
  {
   "cell_type": "code",
   "execution_count": 624,
   "metadata": {},
   "outputs": [],
   "source": [
    "img_gray = cv2.cvtColor(img, cv2.COLOR_BGR2GRAY)\n",
    "# cv2.imshow(\"image\", img_gray)\n",
    "# cv2.waitKey(0)"
   ]
  },
  {
   "cell_type": "code",
   "execution_count": 625,
   "metadata": {},
   "outputs": [],
   "source": [
    "img_gray = cv2.bitwise_not(cv2.adaptiveThreshold(img_gray, 255, cv2.THRESH_BINARY, cv2.ADAPTIVE_THRESH_GAUSSIAN_C, 75, 10))\n",
    "# cv2.imshow(\"image\", img_gray)\n",
    "# cv2.waitKey(0)"
   ]
  },
  {
   "cell_type": "code",
   "execution_count": 626,
   "metadata": {},
   "outputs": [],
   "source": [
    "kernel = np.ones((2,2),np.uint8)"
   ]
  },
  {
   "cell_type": "code",
   "execution_count": 627,
   "metadata": {},
   "outputs": [],
   "source": [
    "img_gray = cv2.erode(img_gray,kernel,iterations = 3)\n",
    "# cv2.imshow(\"image\", img_gray)\n",
    "# cv2.waitKey(0)"
   ]
  },
  {
   "cell_type": "code",
   "execution_count": 628,
   "metadata": {},
   "outputs": [],
   "source": [
    "img_gray = cv2.bitwise_not(img_gray)\n",
    "# cv2.imshow(\"image\", img_gray)\n",
    "# cv2.waitKey(0)"
   ]
  },
  {
   "cell_type": "code",
   "execution_count": 629,
   "metadata": {},
   "outputs": [],
   "source": [
    "im2, contours, hierarchy = cv2.findContours(img_gray,cv2.RETR_TREE,cv2.CHAIN_APPROX_SIMPLE)"
   ]
  },
  {
   "cell_type": "code",
   "execution_count": 630,
   "metadata": {},
   "outputs": [],
   "source": [
    "pruned_contours = []"
   ]
  },
  {
   "cell_type": "code",
   "execution_count": 631,
   "metadata": {},
   "outputs": [],
   "source": [
    "mask = np.zeros_like(img)"
   ]
  },
  {
   "cell_type": "code",
   "execution_count": 632,
   "metadata": {},
   "outputs": [],
   "source": [
    "mask = cv2.cvtColor(mask, cv2.COLOR_BGR2GRAY)"
   ]
  },
  {
   "cell_type": "code",
   "execution_count": 633,
   "metadata": {},
   "outputs": [],
   "source": [
    "height, width, channel = img.shape"
   ]
  },
  {
   "cell_type": "code",
   "execution_count": 634,
   "metadata": {},
   "outputs": [],
   "source": [
    "for cnt in contours:\n",
    "    area = cv2.contourArea(cnt)\n",
    "    if area > 100 and area < ((height / 3) * (width / 3)):\n",
    "      pruned_contours.append(cnt)"
   ]
  },
  {
   "cell_type": "code",
   "execution_count": 635,
   "metadata": {},
   "outputs": [],
   "source": [
    "# find contours for the mask for a second pass after pruning the large and small contours\n",
    "cv2.drawContours(mask, pruned_contours, -1, (255,255,255), 1)\n",
    "im2, contours2, hierarchy = cv2.findContours(mask,cv2.RETR_EXTERNAL,cv2.CHAIN_APPROX_NONE)\n",
    "# cv2.imshow(\"image\", img_gray)\n",
    "# cv2.waitKey(0)"
   ]
  },
  {
   "cell_type": "code",
   "execution_count": 636,
   "metadata": {},
   "outputs": [],
   "source": [
    "final_mask = cv2.cvtColor(np.zeros_like(img), cv2.COLOR_BGR2GRAY)"
   ]
  },
  {
   "cell_type": "code",
   "execution_count": 637,
   "metadata": {},
   "outputs": [],
   "source": [
    "koreanTexts = []\n",
    "for cnt in contours2:\n",
    "    area = cv2.contourArea(cnt)\n",
    "    if area > 1000 and area < ((height / 3) * (width / 3)):\n",
    "      draw_mask = cv2.cvtColor(np.zeros_like(img), cv2.COLOR_BGR2GRAY)\n",
    "      approx = cv2.approxPolyDP(cnt,0.01*cv2.arcLength(cnt,True),True)\n",
    "      cv2.fillPoly(draw_mask, [approx], (255,0,0))\n",
    "      cv2.fillPoly(final_mask, [approx], (255,0,0))\n",
    "      image = cv2.bitwise_and(draw_mask, cv2.cvtColor(img, cv2.COLOR_BGR2GRAY))\n",
    "      draw_mask_inverted = cv2.bitwise_not(draw_mask)\n",
    "      image = cv2.bitwise_or(image, draw_mask_inverted)\n",
    "      y = approx[:, 0, 1].min()\n",
    "      h = approx[:, 0, 1].max() - y\n",
    "      x = approx[:, 0, 0].min()\n",
    "      w = approx[:, 0, 0].max() - x\n",
    "      image = image[y:y+h, x:x+w]\n",
    "      pil_image = Image.fromarray(image)\n",
    "\n",
    "      text = tess.image_to_string(pil_image, lang=\"kor\", config=get_params())\n",
    "      \n",
    "      text = re.sub(r\"\\n\", \"\", text)\n",
    "\n",
    "      if text:\n",
    "#         print (\"Attempt: \" + text)\n",
    "        koreanTexts.append(text)"
   ]
  },
  {
   "cell_type": "code",
   "execution_count": 638,
   "metadata": {},
   "outputs": [
    {
     "data": {
      "image/png": "[encoded data removed]",
      "text/plain": [
       "<Figure size 432x288 with 1 Axes>"
      ]
     },
     "metadata": {
      "needs_background": "light"
     },
     "output_type": "display_data"
    },
    {
     "name": "stdout",
     "output_type": "stream",
     "text": [
      "\n",
      "\n",
      "명하니 뭐하고 ,있어~”~  ->  Do you people doing, I ~ \"~\n",
      "나 기다리다.완전 망부석되는 줄알았다?”  ->  I waited. Mangbuseok fully knew that? \"\n"
     ]
    }
   ],
   "source": [
    "# print(koreanTexts)\n",
    "plt.imshow(img)\n",
    "plt.show()\n",
    "print('\\n')\n",
    "translationTexts = translator.translate(list(reversed(koreanTexts)), dest='en', src='ko')\n",
    "for translation in translationTexts:\n",
    "    print(translation.origin, ' -> ', translation.text)"
   ]
  }
 ],
 "metadata": {
  "kernelspec": {
   "display_name": "Python 3",
   "language": "python",
   "name": "python3"
  },
  "language_info": {
   "codemirror_mode": {
    "name": "ipython",
    "version": 3
   },
   "file_extension": ".py",
   "mimetype": "text/x-python",
   "name": "python",
   "nbconvert_exporter": "python",
   "pygments_lexer": "ipython3",
   "version": "3.5.6"
  }
 },
 "nbformat": 4,
 "nbformat_minor": 2
}
